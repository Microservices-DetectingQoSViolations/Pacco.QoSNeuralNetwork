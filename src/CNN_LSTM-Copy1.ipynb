{
 "cells": [
  {
   "cell_type": "code",
   "execution_count": 1,
   "metadata": {},
   "outputs": [],
   "source": [
    "import tensorflow as tf\n",
    "import pandas as pd\n",
    "import requests\n",
    "from sklearn import preprocessing\n",
    "import numpy as np\n",
    "import matplotlib.pyplot as plt\n",
    "import glob"
   ]
  },
  {
   "cell_type": "code",
   "execution_count": 2,
   "metadata": {},
   "outputs": [],
   "source": [
    "physical_devices = tf.config.list_physical_devices('GPU')\n",
    "tf.config.experimental.set_memory_growth(physical_devices[0], enable=True)"
   ]
  },
  {
   "cell_type": "code",
   "execution_count": 3,
   "metadata": {},
   "outputs": [],
   "source": [
    "import os\n",
    "import sys\n",
    "module_path = os.path.abspath(os.path.join('..'))\n",
    "if module_path not in sys.path:\n",
    "    sys.path.append(module_path)"
   ]
  },
  {
   "cell_type": "code",
   "execution_count": 4,
   "metadata": {},
   "outputs": [],
   "source": [
    "from src.kube.pod import get_pod_names\n",
    "from src.prometheus.time_utils import generate_time\n",
    "from src.prometheus.metrics import metric_labels\n",
    "from src.prometheus.constants import prometheus_endpoint, prometheus_query, excluding_services"
   ]
  },
  {
   "cell_type": "code",
   "execution_count": 5,
   "metadata": {},
   "outputs": [],
   "source": [
    "pods = ['vehicles-service', 'customers-service', 'deliveries-service', 'orders-service',\n",
    "        'availability-service', 'parcels-service']"
   ]
  },
  {
   "cell_type": "code",
   "execution_count": 6,
   "metadata": {},
   "outputs": [
    {
     "data": {
      "text/plain": [
       "['/home/mfi/Pacco/Pacco.QoSNeuralNetwork/src/scrapped_data/not_scaled/1598877404.csv',\n",
       " '/home/mfi/Pacco/Pacco.QoSNeuralNetwork/src/scrapped_data/not_scaled/1598399688.csv']"
      ]
     },
     "execution_count": 6,
     "metadata": {},
     "output_type": "execute_result"
    }
   ],
   "source": [
    "files = glob.glob(\"/home/mfi/Pacco/Pacco.QoSNeuralNetwork/src/scrapped_data/not_scaled/*.csv\")\n",
    "files"
   ]
  },
  {
   "cell_type": "code",
   "execution_count": 7,
   "metadata": {},
   "outputs": [
    {
     "name": "stdout",
     "output_type": "stream",
     "text": [
      "2\n"
     ]
    }
   ],
   "source": [
    "datasets = [pd.read_csv(file) for file in files]\n",
    "print(len(datasets))"
   ]
  },
  {
   "cell_type": "code",
   "execution_count": 8,
   "metadata": {},
   "outputs": [],
   "source": [
    "dataset = pd.concat(datasets)\n",
    "\n",
    "min_max_scaler = preprocessing.MinMaxScaler()\n",
    "x_scaled = min_max_scaler.fit_transform(dataset)\n",
    "dataset = pd.DataFrame(x_scaled, columns=dataset.columns)"
   ]
  },
  {
   "cell_type": "code",
   "execution_count": 9,
   "metadata": {},
   "outputs": [],
   "source": [
    "cols = [c for c in dataset.columns if c.split('_')[-1] in pods]"
   ]
  },
  {
   "cell_type": "code",
   "execution_count": 10,
   "metadata": {},
   "outputs": [
    {
     "data": {
      "text/plain": [
       "(84420, 54)"
      ]
     },
     "execution_count": 10,
     "metadata": {},
     "output_type": "execute_result"
    }
   ],
   "source": [
    "dataset = dataset[cols]\n",
    "dataset = dataset.astype('float32')\n",
    "dataset.shape"
   ]
  },
  {
   "cell_type": "code",
   "execution_count": 11,
   "metadata": {},
   "outputs": [],
   "source": [
    "batch_size = 420\n",
    "batches = [(x * batch_size, (x + 1) * batch_size) for x in range(0, int(dataset.shape[0]/batch_size))]"
   ]
  },
  {
   "cell_type": "code",
   "execution_count": 12,
   "metadata": {},
   "outputs": [],
   "source": [
    "batch_dfs = [dataset.iloc[batch[0]:batch[1]].values for batch in batches]\n",
    "all_batches = len(batch_dfs)"
   ]
  },
  {
   "cell_type": "code",
   "execution_count": 13,
   "metadata": {},
   "outputs": [],
   "source": [
    "x_windowed_datasets = []\n",
    "y_windowed_datasets = []\n",
    "small_batch_size = 10\n",
    "\n",
    "for batch_df in batch_dfs:\n",
    "    for i in range(small_batch_size, batch_df.shape[0] - 1):\n",
    "        x_windowed_datasets.append(batch_df[i - small_batch_size:i, :-len(pods)])\n",
    "        y_windowed_datasets.append(batch_df[i+1, -len(pods):])"
   ]
  },
  {
   "cell_type": "code",
   "execution_count": 14,
   "metadata": {},
   "outputs": [
    {
     "data": {
      "text/plain": [
       "(10, 48)"
      ]
     },
     "execution_count": 14,
     "metadata": {},
     "output_type": "execute_result"
    }
   ],
   "source": [
    "x_windowed_datasets[0].shape"
   ]
  },
  {
   "cell_type": "code",
   "execution_count": 15,
   "metadata": {},
   "outputs": [],
   "source": [
    "all_windows = len(x_windowed_datasets)"
   ]
  },
  {
   "cell_type": "code",
   "execution_count": 16,
   "metadata": {},
   "outputs": [],
   "source": [
    "one_batch_size = int(all_windows / all_batches)"
   ]
  },
  {
   "cell_type": "code",
   "execution_count": 17,
   "metadata": {},
   "outputs": [
    {
     "name": "stdout",
     "output_type": "stream",
     "text": [
      "82209\n",
      "82209\n",
      "(10, 48)\n",
      "(6,)\n"
     ]
    }
   ],
   "source": [
    "print(len(x_windowed_datasets))\n",
    "print(len(y_windowed_datasets))\n",
    "print(x_windowed_datasets[0].shape)\n",
    "print(y_windowed_datasets[0].shape)"
   ]
  },
  {
   "cell_type": "code",
   "execution_count": 18,
   "metadata": {},
   "outputs": [],
   "source": [
    "import random\n",
    "\n",
    "def extract_subsets(indexes, size):\n",
    "    mini_batches = [(i * size, (i * size) + size) for i in indexes]\n",
    "    subsets = np.array([np.arange(int(m_batch[0]), int(m_batch[1])) for m_batch in mini_batches])\n",
    "    \n",
    "    return subsets\n",
    "\n",
    "def train_test_val_split(X, y, split = 0.7, split_val = 0.5):\n",
    "    all_indexes = range(0, all_batches)\n",
    "    size = int(all_windows / all_batches)\n",
    "    \n",
    "    indexes_train = random.sample(all_indexes, int(split * all_batches))\n",
    "    indexes_test = list(set(all_indexes) - set(indexes_train))\n",
    "\n",
    "    indexes_val = random.sample(indexes_test, int(split_val * len(indexes_test)))\n",
    "    indexes_test = list(set(indexes_test) - set(indexes_val))\n",
    "    \n",
    "    X_train = X[extract_subsets(indexes_train, size)]\n",
    "    y_train = y[extract_subsets(indexes_train, size)]\n",
    "\n",
    "    X_test = X[extract_subsets(indexes_test, size)]\n",
    "    y_test = y[extract_subsets(indexes_test, size)]\n",
    "    \n",
    "    X_val = X[extract_subsets(indexes_val, size)]\n",
    "    y_val = y[extract_subsets(indexes_val, size)]\n",
    "                  \n",
    "    return X_train, y_train, X_test, y_test, X_val, y_val, len(indexes_train), len(indexes_test), len(indexes_val)"
   ]
  },
  {
   "cell_type": "code",
   "execution_count": 19,
   "metadata": {},
   "outputs": [],
   "source": [
    "X_train, y_train, X_test, y_test, X_val, y_val, train_len, test_len, val_len = train_test_val_split(np.array(x_windowed_datasets), np.array(y_windowed_datasets))"
   ]
  },
  {
   "cell_type": "code",
   "execution_count": 20,
   "metadata": {},
   "outputs": [
    {
     "name": "stdout",
     "output_type": "stream",
     "text": [
      "(57260, 10, 48)\n",
      "(57260, 6)\n",
      "(31, 409, 10, 48)\n",
      "(31, 409, 6)\n",
      "(12270, 10, 48)\n",
      "(12270, 6)\n"
     ]
    }
   ],
   "source": [
    "X_train = X_train.reshape((-1,) + X_train.shape[2:])\n",
    "y_train = y_train.reshape((-1,) + y_train.shape[2:])\n",
    "\n",
    "#X_test = X_test.reshape((-1,) + X_test.shape[2:])\n",
    "#y_test = y_test.reshape((-1,) + y_test.shape[2:])\n",
    "\n",
    "X_val = X_val.reshape((-1,) + X_val.shape[2:])\n",
    "y_val = y_val.reshape((-1,) + y_val.shape[2:])\n",
    "\n",
    "print(X_train.shape)\n",
    "print(y_train.shape)\n",
    "print(X_test.shape)\n",
    "print(y_test.shape)\n",
    "print(X_val.shape)\n",
    "print(y_val.shape)"
   ]
  },
  {
   "cell_type": "code",
   "execution_count": 23,
   "metadata": {},
   "outputs": [],
   "source": [
    "from tensorflow.keras.models import Sequential\n",
    "from tensorflow.keras.layers import Bidirectional, LSTM, TimeDistributed, Conv1D, MaxPooling1D, Flatten\n",
    "from tensorflow.keras.layers import Activation, Dropout, Dense, BatchNormalization\n",
    "from tensorflow.keras import optimizers\n",
    "\n",
    "\n",
    "model = Sequential()\n",
    "# define CNN model\n",
    "model.add(Conv1D(filters=6, kernel_size=5, activation='relu'))\n",
    "model.add(BatchNormalization())\n",
    "model.add(MaxPooling1D(pool_size=2))\n",
    "\n",
    "model.add(LSTM(512, return_sequences=True, activation='relu'))\n",
    "model.add(Dropout(0.1))\n",
    "model.add(LSTM(256, return_sequences=True, activation='relu'))\n",
    "model.add(Dropout(0.05))\n",
    "model.add(LSTM(36, activation='relu'))\n",
    "model.add((Dense(6)))\n",
    "\n",
    "model.compile(optimizer='adam', loss='logcosh')\n",
    "\n",
    "early_stopping_callback = tf.keras.callbacks.EarlyStopping(monitor='val_loss', patience=2)"
   ]
  },
  {
   "cell_type": "code",
   "execution_count": 24,
   "metadata": {},
   "outputs": [
    {
     "name": "stdout",
     "output_type": "stream",
     "text": [
      "Train on 57260 samples, validate on 12270 samples\n",
      "Epoch 1/10\n",
      "57260/57260 [==============================] - 8s 148us/sample - loss: 0.0018 - val_loss: 0.0015\n",
      "Epoch 2/10\n",
      "57260/57260 [==============================] - 4s 75us/sample - loss: 0.0010 - val_loss: 8.9930e-04\n",
      "Epoch 3/10\n",
      "57260/57260 [==============================] - 4s 73us/sample - loss: 8.3715e-04 - val_loss: 7.2429e-04\n",
      "Epoch 4/10\n",
      "57260/57260 [==============================] - 4s 76us/sample - loss: 7.3077e-04 - val_loss: 6.3939e-04\n",
      "Epoch 5/10\n",
      "57260/57260 [==============================] - 4s 76us/sample - loss: 6.6802e-04 - val_loss: 5.7031e-04\n",
      "Epoch 6/10\n",
      "57260/57260 [==============================] - 4s 77us/sample - loss: 6.4064e-04 - val_loss: 5.8836e-04\n",
      "Epoch 7/10\n",
      "57260/57260 [==============================] - 4s 75us/sample - loss: 6.2487e-04 - val_loss: 5.5988e-04\n",
      "Epoch 8/10\n",
      "57260/57260 [==============================] - 4s 73us/sample - loss: 6.0034e-04 - val_loss: 5.4244e-04\n",
      "Epoch 9/10\n",
      "57260/57260 [==============================] - 4s 75us/sample - loss: 5.9825e-04 - val_loss: 5.4514e-04\n",
      "Epoch 10/10\n",
      "57260/57260 [==============================] - 5s 81us/sample - loss: 5.7325e-04 - val_loss: 5.8477e-04\n"
     ]
    }
   ],
   "source": [
    "\n",
    "history = model.fit(X_train ,y_train, batch_size=int(all_windows / all_batches), validation_data=(X_val, y_val), epochs=10, callbacks=[early_stopping_callback])"
   ]
  },
  {
   "cell_type": "code",
   "execution_count": 25,
   "metadata": {},
   "outputs": [
    {
     "name": "stdout",
     "output_type": "stream",
     "text": [
      "Model: \"sequential_1\"\n",
      "_________________________________________________________________\n",
      "Layer (type)                 Output Shape              Param #   \n",
      "=================================================================\n",
      "conv1d_1 (Conv1D)            multiple                  1446      \n",
      "_________________________________________________________________\n",
      "batch_normalization_1 (Batch multiple                  24        \n",
      "_________________________________________________________________\n",
      "max_pooling1d_1 (MaxPooling1 multiple                  0         \n",
      "_________________________________________________________________\n",
      "lstm_3 (LSTM)                multiple                  1062912   \n",
      "_________________________________________________________________\n",
      "dropout_2 (Dropout)          multiple                  0         \n",
      "_________________________________________________________________\n",
      "lstm_4 (LSTM)                multiple                  787456    \n",
      "_________________________________________________________________\n",
      "dropout_3 (Dropout)          multiple                  0         \n",
      "_________________________________________________________________\n",
      "lstm_5 (LSTM)                multiple                  42192     \n",
      "_________________________________________________________________\n",
      "dense_1 (Dense)              multiple                  222       \n",
      "=================================================================\n",
      "Total params: 1,894,252\n",
      "Trainable params: 1,894,240\n",
      "Non-trainable params: 12\n",
      "_________________________________________________________________\n"
     ]
    }
   ],
   "source": [
    "model.summary()"
   ]
  },
  {
   "cell_type": "code",
   "execution_count": 32,
   "metadata": {},
   "outputs": [],
   "source": [
    "import random\n",
    "\n",
    "sample = random.randint(0, test_len - 1)"
   ]
  },
  {
   "cell_type": "code",
   "execution_count": 33,
   "metadata": {},
   "outputs": [
    {
     "name": "stderr",
     "output_type": "stream",
     "text": [
      "/home/mfi/anaconda3/envs/TestTensorflow/lib/python3.6/site-packages/ipykernel_launcher.py:9: UserWarning: This figure includes Axes that are not compatible with tight_layout, so results might be incorrect.\n",
      "  if __name__ == '__main__':\n"
     ]
    },
    {
     "data": {
      "image/png": "[encoded data removed]",
      "text/plain": [
       "<Figure size 1080x1080 with 6 Axes>"
      ]
     },
     "metadata": {
      "needs_background": "light"
     },
     "output_type": "display_data"
    }
   ],
   "source": [
    "def fancy_service_name(service):\n",
    "    separated_names = service.split('-')\n",
    "    for idx, _ in enumerate(separated_names):\n",
    "        separated_names[idx] = separated_names[idx].capitalize()\n",
    "    return ' '.join(separated_names)\n",
    "\n",
    "fig, axs = plt.subplots(int((len(pods)) / 2), 2, figsize=(15, 15), gridspec_kw={'hspace': 0.35})\n",
    "fig.suptitle(f'QoS violation predictions', fontsize=15)\n",
    "fig.tight_layout()\n",
    "fig.subplots_adjust(top=0.92)\n",
    "x_ax = np.arange(0, int(all_windows / all_batches), 1)\n",
    "sample_x = X_test[sample]\n",
    "sample_y = y_test[sample]\n",
    "prediction = model.predict(sample_x)\n",
    "    \n",
    "for idx in range(0, len(pods)):  \n",
    "    ax_data = axs[(int(idx/2), idx%2)]\n",
    "\n",
    "    ax_data.plot(x_ax, sample_y[:, idx].reshape(-1, 1))\n",
    "    ax_data.plot(x_ax, prediction[:, idx].reshape(-1, 1))\n",
    "    ax_data.set_xlim([min(x_ax), max(x_ax)])\n",
    "    ax_data.set_ylim([-0.1, 1.0])\n",
    "    ax_data.set_xlabel(\"Load time [s]\")\n",
    "    ax_data.set_ylabel(\"QoS violations ratio\")\n",
    "    ax_data.set_title(fancy_service_name(pods[idx]))\n",
    "    ax_data.legend(['Real QoS v. ratio', 'Predicted QoS v. ratio'], loc='upper left')\n",
    "#plt.savefig('plots/NN/Full_problem_2a_all_relu.png')"
   ]
  },
  {
   "cell_type": "code",
   "execution_count": 29,
   "metadata": {
    "scrolled": true
   },
   "outputs": [
    {
     "name": "stdout",
     "output_type": "stream",
     "text": [
      "86, 82,  85, 79\n"
     ]
    }
   ],
   "source": [
    "from sklearn.metrics import accuracy_score, f1_score, precision_score, recall_score\n",
    "\n",
    "window_score = 15\n",
    "y_true = []\n",
    "y_pred = []\n",
    "\n",
    "for sample in range(0, test_len):    \n",
    "    sample_x = X_test[sample]\n",
    "    sample_y = y_test[sample]\n",
    "    prediction = model.predict(sample_x)\n",
    "\n",
    "    for pod_idx in range(0, len(pods)): \n",
    "        unique, counts = np.unique(sample_y[:,pod_idx], return_counts=True)\n",
    "        qos_ratios = list(zip(unique, counts))\n",
    "        small_values = sorted(sorted(list(filter(lambda ratio: ratio[1] > 2, qos_ratios)), key=lambda x: x[1], reverse=True), key=lambda x: x[0])[:2]\n",
    "        min_ratio = small_values[-1][0] # get most common min ratio (not 0.0 if exixsts)\n",
    "        \n",
    "        windows = np.expand_dims(np.arange(window_score), 0) + np.expand_dims(np.arange(one_batch_size - window_score + 1), 0).T\n",
    "        y_calc_score = sample_y[:,pod_idx][windows]\n",
    "        pred_calc_score = prediction[:,pod_idx][windows]\n",
    "\n",
    "        all_zeros = np.all(y_calc_score==0)\n",
    "        if all_zeros:\n",
    "            min_ratio = 0.1\n",
    "\n",
    "        min_ratio = min(0.2, min_ratio * 2)\n",
    "        for y, pred in zip(y_calc_score, pred_calc_score):\n",
    "            y_qos_exists = np.any(y!=0)\n",
    "            pred_qos_exists = np.any(pred>=min_ratio)\n",
    "            y_true.append(y_qos_exists)\n",
    "            y_pred.append(pred_qos_exists)\n",
    "\n",
    "prec = int(precision_score(y_true, y_pred) * 100)\n",
    "f1 = int(f1_score(y_true, y_pred) * 100)\n",
    "accuracy = int(accuracy_score(y_true, y_pred) * 100)\n",
    "recall = int(recall_score(y_true, y_pred) * 100)\n",
    "\n",
    "print(f'{prec}, {f1},  {accuracy}, {recall}')"
   ]
  }
 ],
 "metadata": {
  "kernelspec": {
   "display_name": "Python 3",
   "language": "python",
   "name": "python3"
  },
  "language_info": {
   "codemirror_mode": {
    "name": "ipython",
    "version": 3
   },
   "file_extension": ".py",
   "mimetype": "text/x-python",
   "name": "python",
   "nbconvert_exporter": "python",
   "pygments_lexer": "ipython3",
   "version": "3.7.6"
  }
 },
 "nbformat": 4,
 "nbformat_minor": 4
}

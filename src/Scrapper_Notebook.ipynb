{
 "cells": [
  {
   "cell_type": "code",
   "execution_count": 1,
   "metadata": {},
   "outputs": [],
   "source": [
    "import tensorflow as tf\n",
    "import pandas as pd\n",
    "import requests\n",
    "from sklearn import preprocessing"
   ]
  },
  {
   "cell_type": "code",
   "execution_count": 2,
   "metadata": {},
   "outputs": [],
   "source": [
    "physical_devices = tf.config.list_physical_devices('GPU')\n",
    "tf.config.experimental.set_memory_growth(physical_devices[0], enable=True)"
   ]
  },
  {
   "cell_type": "code",
   "execution_count": 3,
   "metadata": {},
   "outputs": [],
   "source": [
    "import os\n",
    "import sys\n",
    "module_path = os.path.abspath(os.path.join('..'))\n",
    "if module_path not in sys.path:\n",
    "    sys.path.append(module_path)"
   ]
  },
  {
   "cell_type": "code",
   "execution_count": 4,
   "metadata": {},
   "outputs": [],
   "source": [
    "from src.kube.pod import get_pod_names\n",
    "from src.prometheus.time_utils import generate_time\n",
    "from src.prometheus.metrics import metric_labels\n",
    "from src.prometheus.constants import prometheus_endpoint, excluding_services, prometheus_query"
   ]
  },
  {
   "cell_type": "code",
   "execution_count": 5,
   "metadata": {},
   "outputs": [],
   "source": [
    "data_length = 420\n",
    "offsets = [1598877404.0419254, 1598878004.0544617, 1598878604.078713, 1598879204.093746, 1598879804.1056745, 1598880404.122491, 1598881004.1488338, 1598881604.1680448, 1598882204.1864324, 1598882804.1977358, 1598883404.219199, 1598884004.2493558, 1598884604.270563, 1598885204.2820766, 1598885804.289007, 1598886404.3132436, 1598913943.7459676, 1598914543.8185163, 1598915143.8391328, 1598915743.848063, 1598916343.8584847, 1598916943.8682706, 1598917543.8892484, 1598918143.912858, 1598918743.936255, 1598919343.9440253, 1598919943.9653447, 1598920543.972687, 1598921143.98354, 1598921743.997125, 1598922344.0048857, 1598922944.029947, 1598923544.0381558, 1598924144.0608115, 1598924744.0780828, 1598925344.0908113, 1598925944.1309114, 1598926544.1630712, 1598927144.1790442, 1598927744.1974945, 1598928344.2189867, 1598928944.2331138, 1598929544.2421143, 1598930144.2663388, 1598930744.2883592, 1598931344.3096392, 1598931944.3326228, 1598932544.3605652, 1598933144.381381, 1598933744.4063568, 1598934344.4200628, 1598934944.4510636, 1598935544.4720018, 1598936144.4863994, 1598936744.500132, 1598937344.5239713, 1598937944.5362685, 1598938544.5559564] \n",
    "offsets_in_ms = [(((int(offset) - data_length + 1)), int(offset)) for offset in offsets]"
   ]
  },
  {
   "cell_type": "code",
   "execution_count": 6,
   "metadata": {},
   "outputs": [],
   "source": [
    "pods = ['vehicles-service', 'identity-service', 'customers-service', 'deliveries-service', 'orders-service',\n",
    "        'availability-service', 'parcels-service', 'pricing-service']"
   ]
  },
  {
   "cell_type": "code",
   "execution_count": 7,
   "metadata": {},
   "outputs": [
    {
     "name": "stdout",
     "output_type": "stream",
     "text": [
      "Is there a GPU available: \n",
      "[PhysicalDevice(name='/physical_device:GPU:0', device_type='GPU')]\n"
     ]
    }
   ],
   "source": [
    "print(\"Is there a GPU available: \"),\n",
    "print(tf.config.experimental.list_physical_devices(\"GPU\"))"
   ]
  },
  {
   "cell_type": "code",
   "execution_count": 8,
   "metadata": {},
   "outputs": [
    {
     "name": "stdout",
     "output_type": "stream",
     "text": [
      "label_join(sum by (app, job) (aspnetcore_requests_per_second{app!~\"api-gateway-service|order-maker-service|operations-service\"}), \"instance\", \"\", \"app\")\n",
      "label_join(max by (app, job) (rate(aspnetcore_requests_duration_seconds_sum{app!~\"api-gateway-service|order-maker-service|operations-service\", route=~\".+\"}[10s])), \"instance\", \"\", \"app\")\n",
      "label_join(sum by (app, job) (rate(dotnet_gc_pause_ratio{app!~\"api-gateway-service|order-maker-service|operations-service\"}[10s])), \"instance\", \"\", \"app\")\n",
      "label_join(sum by (app, job) (rate(dotnet_threadpool_adjustments_total{app!~\"api-gateway-service|order-maker-service|operations-service\"}[10s])), \"instance\", \"\", \"app\")\n",
      "label_join(sum by (app, job) (rate(dotnet_threadpool_scheduled_total{app!~\"api-gateway-service|order-maker-service|operations-service\"}[5s])), \"instance\", \"\", \"app\")\n",
      "label_join(sum by (app, job) (runtime_threadpool_threads_total{app!~\"api-gateway-service|order-maker-service|operations-service\"}), \"instance\", \"\", \"app\")\n",
      "max by (app, instance, job) (label_join(sum by (app, job) (rate(application_httprequests_error_rate_total{app!~\"api-gateway-service|order-maker-service|operations-service\"}[10s]) or 0 * up{app!~\"api-gateway-service|order-maker-service|operations-service\", app=~\".+service\", job=\"kubernetes-pods\"}), \"instance\", \"\", \"app\"))\n",
      "label_join(sum by (app, job) (rate(application_httprequests_transactions_sum{app!~\"api-gateway-service|order-maker-service|operations-service\"}[10s])), \"instance\", \"\", \"app\")\n",
      "max by (app, instance, job) (label_join(sum by (app, job) (increase(application_qos_violation{app!~\"api-gateway-service|order-maker-service|operations-service\", item!~\".+\"}[10s]) or 0 * up{app!~\"api-gateway-service|order-maker-service|operations-service\", app=~\".+service\", job=\"kubernetes-pods\"}), \"instance\", \"\", \"app\"))\n"
     ]
    }
   ],
   "source": [
    "for job_name in metric_labels:\n",
    "        for idx, metric in enumerate(metric_labels[job_name]):\n",
    "            print(metric[1])"
   ]
  },
  {
   "cell_type": "code",
   "execution_count": 10,
   "metadata": {},
   "outputs": [],
   "source": [
    "datasets = []\n",
    "\n",
    "for offset in offsets_in_ms:\n",
    "    prom_data_by_pods = {}\n",
    "    for job_name in metric_labels:\n",
    "        for metric in metric_labels[job_name]:\n",
    "            response =requests.get(prometheus_endpoint + prometheus_query,\n",
    "                                   params={'query': metric[1], 'start': offset[0], 'end': offset[1], 'step':1})\n",
    "            prometheus_data = response.json()['data']['result']\n",
    "\n",
    "            for pod in pods:\n",
    "                metric_data = next(data['values'] for data in prometheus_data if data['metric']['app'] == pod)\n",
    "                metric_data = map(lambda val: float(val[1]), metric_data)\n",
    "                prom_data_by_pods[metric[0] + '_' + pod] = metric_data\n",
    "    datasets.append(pd.DataFrame.from_dict(prom_data_by_pods))"
   ]
  },
  {
   "cell_type": "code",
   "execution_count": 11,
   "metadata": {},
   "outputs": [],
   "source": [
    "for idx, d_t in enumerate(datasets):\n",
    "    min_max_scaler = preprocessing.MinMaxScaler()\n",
    "    x_scaled = min_max_scaler.fit_transform(d_t)\n",
    "    datasets[idx] = pd.DataFrame(x_scaled, columns=d_t.columns)"
   ]
  },
  {
   "cell_type": "code",
   "execution_count": 12,
   "metadata": {},
   "outputs": [
    {
     "data": {
      "text/plain": [
       "(24360, 72)"
      ]
     },
     "execution_count": 12,
     "metadata": {},
     "output_type": "execute_result"
    }
   ],
   "source": [
    "dataset = pd.concat(datasets)\n",
    "dataset.shape\n",
    "\n",
    "# Each batch 420 rows"
   ]
  },
  {
   "cell_type": "code",
   "execution_count": 13,
   "metadata": {},
   "outputs": [],
   "source": [
    "dataset.to_csv(f'scrapped_data/not_scaled/{str(int(offsets[0]))}.csv', index = False, header=True)"
   ]
  }
 ],
 "metadata": {
  "kernelspec": {
   "display_name": "Python [conda env:TestTensorflow] *",
   "language": "python",
   "name": "conda-env-TestTensorflow-py"
  },
  "language_info": {
   "codemirror_mode": {
    "name": "ipython",
    "version": 3
   },
   "file_extension": ".py",
   "mimetype": "text/x-python",
   "name": "python",
   "nbconvert_exporter": "python",
   "pygments_lexer": "ipython3",
   "version": "3.6.10"
  }
 },
 "nbformat": 4,
 "nbformat_minor": 2
}
